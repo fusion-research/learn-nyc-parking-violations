{
 "cells": [
  {
   "cell_type": "markdown",
   "metadata": {},
   "source": [
    "# Learn Python Data Analytics By Example: NY Parking Violations"
   ]
  },
  {
   "cell_type": "markdown",
   "metadata": {},
   "source": [
    "### Introduction\n",
    "\n",
    "While working towards my Master's in Business Analytics, I found that learning by example is the best way for me to learn Python data analytics.  Being given a dataset and a set of coding tasks is much more beneficial than reading a textbook or listening to a professor.  \n",
    "\n",
    "I want to share this method of learning with others who will also benefit.  All you need is a Python development environment (I recommend [Jupyter Notebook](https://jupyter.org/)) and a willingness to learn and have fun.\n",
    "\n",
    "Included in this article is a list of data analytics tasks, followed by a detailed walkthrough of how to complete the tasks.  Please try to complete the tasks yourself before reading through the walkthrough - you will get more out of it that way.  Do keep in mind that there are many many ways to solve coding problems, so your code likely will not match mine word for word.\n",
    "\n",
    "### Project Description\n",
    "\n",
    "For this project we will use a dataset of 50,000 parking violations issued in New York City during the 2021 fiscal year.  The dataset was created in January 2021 and contains data from April 1 to November 30, 2020 sourced from [NYC Open Data](https://data.cityofnewyork.us/City-Government/Parking-Violations-Issued-Fiscal-Year-2021/pvqr-7yc4).\n",
    "\n",
    "You will need to install the [pandas](https://pandas.pydata.org/) and [matplotlib](https://matplotlib.org/) libraries, if you do not already have them.\n",
    "\n",
    "\n",
    "### Data Analytics Tasks\n",
    "\n",
    "Please perform the following tasks in Python using the *violations.csv* dataset available from the GitHub repo.\n",
    "1. Read the CSV file containing the NYC parking violation data. Change the 'Issue Date' column to a date format. Then print out the number of rows imported.\n",
    "2. Perform exploratory data analysis on the imported dataset to identify invalid data.  Write code to remove the impacted rows.  Then print out the number of rows remaining in the dataset.\n",
    "3. Display a simple plot that shows the number of parking violations issued for each vehicle year.\n",
    "4. List the top 5 violation codes for vehicles that are registered in states other than NY.\n",
    "5. Name the street where Hondas received the most parking violations.\n",
    "6. For vehicles that are from NY only, create a plot displaying the ratio of plate types that are not passenger, month by month.\n",
    "7. Determine whether the color of vehicles with passenger plates receiving the most violations is the same as the color of vehicles with commercial plates receiving the most violations.\n",
    "8. Display the number of registration states represented in the data and the average number of parking violations per registration state.\n",
    "9. Display the plate type that has the most parking violations for each violation code.\n",
    "10. Calculate the percentage of parking violations in each county and display in descending order."
   ]
  },
  {
   "cell_type": "markdown",
   "metadata": {},
   "source": [
    "### Step 1: Read the CSV file containing the NYC parking violation data.  Change the 'Issue Date' column to a date format.  Then print out the number of rows imported."
   ]
  },
  {
   "cell_type": "code",
   "execution_count": 1,
   "metadata": {},
   "outputs": [
    {
     "name": "stdout",
     "output_type": "stream",
     "text": [
      "Number of Rows: 50000\n"
     ]
    }
   ],
   "source": [
    "import pandas as pd\n",
    "\n",
    "# Read the file and import all rows.\n",
    "df = pd.read_csv('violations.csv')\n",
    "\n",
    "# Change the data type of the 'Issue Date' column to date.\n",
    "df['Issue Date'] = pd.to_datetime(df['Issue Date'])\n",
    "\n",
    "# Print out the number of rows imported from the file.\n",
    "print('Number of Rows: ' + str(len(df)))"
   ]
  },
  {
   "cell_type": "markdown",
   "metadata": {},
   "source": [
    "#### Code Explanation:\n",
    "\n",
    "We start by making the contents of the pandas module available to our program.  pandas is an easy to use open source data analysis and manipulation tool, built on top of the Python programming language.  We will use it extensively throughout this project.\n",
    "\n",
    "```\n",
    "import pandas as pd\n",
    "```\n",
    "\n",
    "We import the contents of the *violations.csv* file by calling the read_csv() method and store it in a DataFrame, named *df*.  A DataFrame is a two-dimensional data structure with labeled axes, consisting of data, rows and columns.  Think of it like a table built in Microsoft Excel or Microsoft Access.\n",
    "\n",
    "```\n",
    "df = pd.read_csv('violations.csv')\n",
    "```\n",
    "\n",
    "We use the print() function to print the string 'Number of Rows:' followed by the number of rows in the DataFrame.  The argument that we pass to the print() function is made up of two parts.  The first is the string 'Number of Rows: ' surrounded in single quotes, denoting it as a string.  The second part of the argument is calculating the number of rows in *df*.  We use the len() function to tell us the number of rows in *df*, then wrap it in a call to the str() method to convert the length into a string. Finally, the + concatenates (or joins) the two string parts together.  All parts of the argument passed to the print() function must be of type string.\n",
    "\n",
    "```\n",
    "print('Number of Rows: ' + str(len(df)))\n",
    "```"
   ]
  },
  {
   "cell_type": "markdown",
   "metadata": {},
   "source": [
    "### Step 2: Perform exploratory data analysis on the imported dataset to identify invalid data.  Write code to remove the impacted rows.  Then print out the number of rows remaining in the dataset.\n",
    "\n",
    "The following data is considered to be invalid:\n",
    "* Registration State: values that are not a two letter state or province identifier.\n",
    "* Plate Type: values that are not a three letter identifier ([Registration Class Codes](https://dmv.ny.gov/registration/registration-class-codes))\n",
    "* Issue Date: dates not within the fiscal year (use 2020-11-30 as the end of the fiscal year)\n",
    "* Violation Code: codes other than those between 1 and 99 ([Violation Codes](https://www1.nyc.gov/site/finance/vehicles/services-violation-codes.page))\n",
    "* Vehicle Make: blank values\n",
    "* Violation Time: blank values\n",
    "* Vehicle Year: vehicles with dates in the future (use 2020 as the current year)"
   ]
  },
  {
   "cell_type": "code",
   "execution_count": 2,
   "metadata": {},
   "outputs": [
    {
     "name": "stdout",
     "output_type": "stream",
     "text": [
      "Number of Rows: 38937\n"
     ]
    }
   ],
   "source": [
    "# Remove rows containing invalid data.\n",
    "df = df[(df['Registration State'] != \"99\") & (df['Plate Type'] != \"999\") & (df['Issue Date'] >= '2020-04-01')\n",
    "                 & (df['Issue Date'] <= '2020-11-30') & (df['Violation Code'] != 0) & (df['Vehicle Make'].notnull())\n",
    "                 & (df['Violation Time'].notnull()) & (df['Vehicle Year'] != 0) & (df['Vehicle Year'] <= 2020)]\n",
    "\n",
    "# Print out the number of rows remaining in the dataset.\n",
    "print('Number of Rows: ' + str(len(df)))"
   ]
  },
  {
   "cell_type": "markdown",
   "metadata": {},
   "source": [
    "#### Code Explanation:\n",
    "\n",
    "We need to subset *df* to filter out records with invalid data.  We are able to apply multiple parameters at once by wrapping each in parentheses and using the & character between them.  We use != to represent not equal to, >= to represent greater than or equal to and <= to represent less than or equal to.  For the Vehicle Make and Violation Time columns, we need to check for null values by calling the notnull() method.\n",
    "\n",
    "```\n",
    "df = df[(df['Registration State'] != \"99\") & (df['Plate Type'] != \"999\") & (df['Issue Date'] >= '2020-04-01')\n",
    "                 & (df['Issue Date'] <= '2020-11-30') & (df['Violation Code'] != 0) & (df['Vehicle Make'].notnull())\n",
    "                 & (df['Violation Time'].notnull()) & (df['Vehicle Year'] != 0) & (df['Vehicle Year'] <= 2020)]\n",
    "```\n",
    "\n",
    "We use the print() function in exactly the same way as Step 1 above.\n",
    "\n",
    "```\n",
    "print('Number of Rows: ' + str(len(df)))\n",
    "```"
   ]
  },
  {
   "cell_type": "markdown",
   "metadata": {},
   "source": [
    "### Step 3: Display a simple plot that shows the number of parking violations issued for each vehicle year. "
   ]
  },
  {
   "cell_type": "code",
   "execution_count": 3,
   "metadata": {},
   "outputs": [
    {
     "data": {
      "image/png": "[encoded data removed]",
      "text/plain": [
       "<Figure size 432x288 with 1 Axes>"
      ]
     },
     "metadata": {
      "needs_background": "light"
     },
     "output_type": "display_data"
    }
   ],
   "source": [
    "import matplotlib.pyplot as plt\n",
    "\n",
    "# Isolate the data to be used in the plot.\n",
    "df_vehicle_year = df.groupby('Vehicle Year')['Summons Number'].count()\n",
    "\n",
    "# Create a plot that shows the number of parking violations for each vehicle year.\n",
    "plt.plot(df_vehicle_year)\n",
    "plt.show()"
   ]
  },
  {
   "cell_type": "markdown",
   "metadata": {},
   "source": [
    "#### Code Explanation:\n",
    "\n",
    "We make the contents of the matplotlib library available to our program. matplotlib is a comprehensive library for creating visualizations in Python.\n",
    "\n",
    "```\n",
    "import matplotlib.pyplot as plt\n",
    "```\n",
    "\n",
    "We need to create a dataset for the plot, containing vehicle year and the number of parking violations for each those years.  To do this, we group the records in *df* by vehicle year and count the number of parking violations for each year.  Each parking violation has a unique summons number.\n",
    "\n",
    "```\n",
    "df_vehicle_year = df.groupby('Vehicle Year')['Summons Number'].count()\n",
    "```\n",
    "\n",
    "We use the plot() function of matplotlib to create the plot.  As an argument, we simply pass the new dataset that we created.  Then we use the show() function to display the plot.\n",
    "\n",
    "```\n",
    "plt.plot(df_vehicle_year)\n",
    "plt.show()\n",
    "```"
   ]
  },
  {
   "cell_type": "markdown",
   "metadata": {},
   "source": [
    "### Step 4: List the top 5 violation codes for vehicles that are registered in states other than NY."
   ]
  },
  {
   "cell_type": "code",
   "execution_count": 4,
   "metadata": {},
   "outputs": [
    {
     "data": {
      "text/html": [
       "<div>\n",
       "<style scoped>\n",
       "    .dataframe tbody tr th:only-of-type {\n",
       "        vertical-align: middle;\n",
       "    }\n",
       "\n",
       "    .dataframe tbody tr th {\n",
       "        vertical-align: top;\n",
       "    }\n",
       "\n",
       "    .dataframe thead th {\n",
       "        text-align: right;\n",
       "    }\n",
       "</style>\n",
       "<table border=\"1\" class=\"dataframe\">\n",
       "  <thead>\n",
       "    <tr style=\"text-align: right;\">\n",
       "      <th></th>\n",
       "      <th>Violation Code</th>\n",
       "      <th>Count</th>\n",
       "    </tr>\n",
       "  </thead>\n",
       "  <tbody>\n",
       "    <tr>\n",
       "      <th>0</th>\n",
       "      <td>36</td>\n",
       "      <td>2772</td>\n",
       "    </tr>\n",
       "    <tr>\n",
       "      <th>1</th>\n",
       "      <td>5</td>\n",
       "      <td>365</td>\n",
       "    </tr>\n",
       "    <tr>\n",
       "      <th>2</th>\n",
       "      <td>7</td>\n",
       "      <td>350</td>\n",
       "    </tr>\n",
       "    <tr>\n",
       "      <th>3</th>\n",
       "      <td>12</td>\n",
       "      <td>62</td>\n",
       "    </tr>\n",
       "    <tr>\n",
       "      <th>4</th>\n",
       "      <td>21</td>\n",
       "      <td>30</td>\n",
       "    </tr>\n",
       "  </tbody>\n",
       "</table>\n",
       "</div>"
      ],
      "text/plain": [
       "   Violation Code  Count\n",
       "0              36   2772\n",
       "1               5    365\n",
       "2               7    350\n",
       "3              12     62\n",
       "4              21     30"
      ]
     },
     "execution_count": 4,
     "metadata": {},
     "output_type": "execute_result"
    }
   ],
   "source": [
    "df[df['Registration State'] != 'NY'].groupby('Violation Code')['Summons Number'].count().nlargest(5).reset_index(name='Count')"
   ]
  },
  {
   "cell_type": "markdown",
   "metadata": {},
   "source": [
    "#### Code Explanation:\n",
    "\n",
    "There are a lot of elements in this single line of code to unpack, so we will take it one step at a time.  Take your time to understand this line, as we will use this structure many more times in the steps to follow.\n",
    "\n",
    "In the first part of the statement, we filter *df* to only those records with a registration state of NY.\n",
    "\n",
    "```\n",
    "df[df['Registration State'] != 'NY']\n",
    "```\n",
    "\n",
    "Next we group the resulting records by violation code and count the number of parking violations for each violation code.\n",
    "\n",
    "```\n",
    ".groupby('Violation Code')['Summons Number'].count()\n",
    "```\n",
    "\n",
    "We display the violation codes with the 5 highest counts by using the nlargest() method and passing it the argument 5.  The first n rows with the largest values in the count column, in descending order, are displayed.\n",
    "\n",
    "```\n",
    ".nlargest(5)\n",
    "```\n",
    "\n",
    "Finally, we use the the reset_index() method to reset the DataFrame index to the original one.  We use it here to present the results in a more elegant manner.  We pass the name argument of 'Count' to name the column containing the count values.\n",
    "\n",
    "```\n",
    ".reset_index(name='Count')\n",
    "```"
   ]
  },
  {
   "cell_type": "markdown",
   "metadata": {},
   "source": [
    "### Step 5: Name the street where Hondas received the most parking violations."
   ]
  },
  {
   "cell_type": "code",
   "execution_count": 5,
   "metadata": {
    "scrolled": true
   },
   "outputs": [
    {
     "data": {
      "text/html": [
       "<div>\n",
       "<style scoped>\n",
       "    .dataframe tbody tr th:only-of-type {\n",
       "        vertical-align: middle;\n",
       "    }\n",
       "\n",
       "    .dataframe tbody tr th {\n",
       "        vertical-align: top;\n",
       "    }\n",
       "\n",
       "    .dataframe thead th {\n",
       "        text-align: right;\n",
       "    }\n",
       "</style>\n",
       "<table border=\"1\" class=\"dataframe\">\n",
       "  <thead>\n",
       "    <tr style=\"text-align: right;\">\n",
       "      <th></th>\n",
       "      <th>Street Name</th>\n",
       "      <th>Count</th>\n",
       "    </tr>\n",
       "  </thead>\n",
       "  <tbody>\n",
       "    <tr>\n",
       "      <th>0</th>\n",
       "      <td>Broadway</td>\n",
       "      <td>34</td>\n",
       "    </tr>\n",
       "  </tbody>\n",
       "</table>\n",
       "</div>"
      ],
      "text/plain": [
       "  Street Name  Count\n",
       "0    Broadway     34"
      ]
     },
     "execution_count": 5,
     "metadata": {},
     "output_type": "execute_result"
    }
   ],
   "source": [
    "df[df['Vehicle Make'] == 'HONDA'].groupby('Street Name')['Summons Number'].count().nlargest(1).reset_index(name='Count')"
   ]
  },
  {
   "cell_type": "markdown",
   "metadata": {},
   "source": [
    "#### Code Explanation:\n",
    "\n",
    "This line of code closely follows the structure of what we used in Step 4 above.  In this instance we filter *df* to only those records with a vehicle make of Honda, group the resulting records by street name, count the number of parking violations for each street and display only the street with the most parking violations.\n",
    "\n",
    "```\n",
    "df[df['Vehicle Make'] == 'HONDA'].groupby('Street Name')['Summons Number'].count().nlargest(1).reset_index(name='Count')\n",
    "```"
   ]
  },
  {
   "cell_type": "markdown",
   "metadata": {},
   "source": [
    "### Step 6: For vehicles that are from NY only, create a plot displaying the ratio of plate types that are not passenger, month by month."
   ]
  },
  {
   "cell_type": "code",
   "execution_count": 6,
   "metadata": {},
   "outputs": [
    {
     "data": {
      "image/png": "[encoded data removed]",
      "text/plain": [
       "<Figure size 432x288 with 1 Axes>"
      ]
     },
     "metadata": {
      "needs_background": "light"
     },
     "output_type": "display_data"
    }
   ],
   "source": [
    "# Subset for only rows where the Registration State is NY.\n",
    "df_ny = df[df['Registration State'] == 'NY']\n",
    "\n",
    "# Calculate the ratio of non-passenger plates to all plates, grouped by year. \n",
    "df_ny_notpas = df_ny[df_ny['Plate Type'] != 'PAS'].groupby('Vehicle Year')['Summons Number'].count()\n",
    "df_ny_all = df_ny.groupby('Vehicle Year')['Summons Number'].count()\n",
    "ratio = df_ny_notpas / df_ny_all\n",
    "\n",
    "# Replace nulls with 0.\n",
    "ratio.fillna(0, inplace = True)\n",
    "\n",
    "# Create and show plot.\n",
    "plt.plot(ratio)\n",
    "plt.show()"
   ]
  },
  {
   "cell_type": "markdown",
   "metadata": {},
   "source": [
    "#### Code Explanation:\n",
    "\n",
    "We subset *df* by selecting only those records with a registration state of NY and store it as *df_ny*.\n",
    "\n",
    "```\n",
    "df_ny = df[df['Registration State'] == 'NY']\n",
    "```\n",
    "\n",
    "To calculate the requested ratios, we need to create a dataset to represent the numerator (number of parking violations for all non-passenger vehicles by vehicle year) and another to represent the denominator (number of parking violations for all vehicles by vehicle year).\n",
    "\n",
    "For the numerator we filter *df_ny* to only those records with a plate type not equal to passenger, group the resulting records by vehicle year and count the number of parking violations for each year.  We store this as *df_ny_notpas*.\n",
    "\n",
    "```\n",
    "df_ny_notpas = df_ny[df_ny['Plate Type'] != 'PAS'].groupby('Vehicle Year')['Summons Number'].count()\n",
    "```\n",
    "\n",
    "For the denominator we don't need to filter *df_ny* as we need all records. Instead we just group the records by vehicle year and count the number of parking violations for each year.  We store this as *df_ny_all*.\n",
    "\n",
    "```\n",
    "df_ny_all = df_ny.groupby('Vehicle Year')['Summons Number'].count()\n",
    "```\n",
    "\n",
    "To calculate the ratios for each year, we simply divide the numerator by the denominator.  This is part of the magic of pandas, where it applies the division function to each of the count pairs in the DataFrames, year by year.  When a vehicle year appears in only one of the DataFrames, the result is NaN.\n",
    "\n",
    "```\n",
    "ratio = df_ny_notpas / df_ny_all\n",
    "```\n",
    "\n",
    "We are unable to plot NaN values, so we replace them with 0 using the fillna() method on the *ratio* Dataframe.  The inplace=True parameter updates the values directly in *ratio*.\n",
    "\n",
    "```\n",
    "ratio.fillna(0, inplace = True)\n",
    "```\n",
    "\n",
    "We use the plot() function of matplotlib to create the plot. As an argument, we simply pass the new dataset that we created. Then we use the show() function to display the plot.\n",
    "\n",
    "```\n",
    "plt.plot(ratio)\n",
    "plt.show()\n",
    "```"
   ]
  },
  {
   "cell_type": "markdown",
   "metadata": {},
   "source": [
    "### Step 7: Determine whether the color of vehicles with passenger plates receiving the most violations is the same as the color of vehicles with commercial plates receiving the most violations. "
   ]
  },
  {
   "cell_type": "code",
   "execution_count": 7,
   "metadata": {},
   "outputs": [
    {
     "data": {
      "text/html": [
       "<div>\n",
       "<style scoped>\n",
       "    .dataframe tbody tr th:only-of-type {\n",
       "        vertical-align: middle;\n",
       "    }\n",
       "\n",
       "    .dataframe tbody tr th {\n",
       "        vertical-align: top;\n",
       "    }\n",
       "\n",
       "    .dataframe thead th {\n",
       "        text-align: right;\n",
       "    }\n",
       "</style>\n",
       "<table border=\"1\" class=\"dataframe\">\n",
       "  <thead>\n",
       "    <tr style=\"text-align: right;\">\n",
       "      <th></th>\n",
       "      <th>Vehicle Color</th>\n",
       "      <th>Count</th>\n",
       "    </tr>\n",
       "  </thead>\n",
       "  <tbody>\n",
       "    <tr>\n",
       "      <th>0</th>\n",
       "      <td>GY</td>\n",
       "      <td>7797</td>\n",
       "    </tr>\n",
       "  </tbody>\n",
       "</table>\n",
       "</div>"
      ],
      "text/plain": [
       "  Vehicle Color  Count\n",
       "0            GY   7797"
      ]
     },
     "execution_count": 7,
     "metadata": {},
     "output_type": "execute_result"
    }
   ],
   "source": [
    "df[df['Plate Type'] == 'PAS'].groupby('Vehicle Color')['Summons Number'].count().nlargest(1).reset_index(name='Count')"
   ]
  },
  {
   "cell_type": "markdown",
   "metadata": {},
   "source": [
    "#### Code Explanation:\n",
    "\n",
    "We filter *df* to only those records with a plate type of passenger, group the resulting records by vehicle color, count the number of parking violations for each color and display the color with the most parking violations using nlargest().\n",
    "\n",
    "```\n",
    "df[df['Plate Type'] == 'PAS'].groupby('Vehicle Color')['Summons Number'].count().nlargest(1).reset_index(name='Count')\n",
    "```"
   ]
  },
  {
   "cell_type": "code",
   "execution_count": 8,
   "metadata": {},
   "outputs": [
    {
     "data": {
      "text/html": [
       "<div>\n",
       "<style scoped>\n",
       "    .dataframe tbody tr th:only-of-type {\n",
       "        vertical-align: middle;\n",
       "    }\n",
       "\n",
       "    .dataframe tbody tr th {\n",
       "        vertical-align: top;\n",
       "    }\n",
       "\n",
       "    .dataframe thead th {\n",
       "        text-align: right;\n",
       "    }\n",
       "</style>\n",
       "<table border=\"1\" class=\"dataframe\">\n",
       "  <thead>\n",
       "    <tr style=\"text-align: right;\">\n",
       "      <th></th>\n",
       "      <th>Vehicle Color</th>\n",
       "      <th>Count</th>\n",
       "    </tr>\n",
       "  </thead>\n",
       "  <tbody>\n",
       "    <tr>\n",
       "      <th>0</th>\n",
       "      <td>WH</td>\n",
       "      <td>2882</td>\n",
       "    </tr>\n",
       "  </tbody>\n",
       "</table>\n",
       "</div>"
      ],
      "text/plain": [
       "  Vehicle Color  Count\n",
       "0            WH   2882"
      ]
     },
     "execution_count": 8,
     "metadata": {},
     "output_type": "execute_result"
    }
   ],
   "source": [
    "df[df['Plate Type'] == 'COM'].groupby('Vehicle Color')['Summons Number'].count().nlargest(1).reset_index(name='Count')"
   ]
  },
  {
   "cell_type": "markdown",
   "metadata": {},
   "source": [
    "#### Code Explanation:\n",
    "\n",
    "We filter *df* to only those records with a plate type of commercial, group the resulting records by vehicle color, count the number of parking violations for each color and display the color with the most parking violations using nlargest().\n",
    "\n",
    "```\n",
    "df[df['Plate Type'] == 'COM'].groupby('Vehicle Color')['Summons Number'].count().nlargest(1).reset_index(name='Count')\n",
    "```"
   ]
  },
  {
   "cell_type": "markdown",
   "metadata": {},
   "source": [
    "### Step 8: Display the number of registration states represented in the data and the average number of parking violations per registration state."
   ]
  },
  {
   "cell_type": "code",
   "execution_count": 9,
   "metadata": {},
   "outputs": [
    {
     "name": "stdout",
     "output_type": "stream",
     "text": [
      "Number of Registration States: 45\n",
      "Average Number of Parking Violations per Registration State: 865.2666666666667\n"
     ]
    }
   ],
   "source": [
    "print('Number of Registration States: ' + str(df['Registration State'].nunique()))\n",
    "\n",
    "print('Average Number of Parking Violations per Registration State: ' +  \n",
    "      str(df.groupby('Registration State')['Summons Number'].count().mean()))"
   ]
  },
  {
   "cell_type": "markdown",
   "metadata": {},
   "source": [
    "#### Code Explanation:\n",
    "\n",
    "We print the string 'Number of Registration States' concatenated with the count of registration states in *df*.  To determine the number of registration states we call the nunique() method on the registration state column in *df*, which returns the count of distinct observations, i.e., the number of unique states listed in the column.  As we did before, we use str() to convert the numeric value into a string.\n",
    "\n",
    "```\n",
    "print('Number of Registration States: ' + str(df['Registration State'].nunique()))\n",
    "```\n",
    "\n",
    "We print the string 'Average Number of Parking Violations per Registration State' concatenated with the average number of parking violations.  To calculate the latter, we group the rows in *df* by registration state, count the number of parking violations for each state and then average the counts by calling the mean() method.\n",
    "\n",
    "```\n",
    "print('Average Number of Parking Violations per Registration State: ' +  \n",
    "      str(df.groupby('Registration State')['Summons Number'].count().mean()))\n",
    "```"
   ]
  },
  {
   "cell_type": "markdown",
   "metadata": {},
   "source": [
    "### Step 9: Display the plate type that has the most parking violations for each violation code."
   ]
  },
  {
   "cell_type": "code",
   "execution_count": 10,
   "metadata": {},
   "outputs": [
    {
     "data": {
      "text/html": [
       "<div>\n",
       "<style scoped>\n",
       "    .dataframe tbody tr th:only-of-type {\n",
       "        vertical-align: middle;\n",
       "    }\n",
       "\n",
       "    .dataframe tbody tr th {\n",
       "        vertical-align: top;\n",
       "    }\n",
       "\n",
       "    .dataframe thead th {\n",
       "        text-align: right;\n",
       "    }\n",
       "</style>\n",
       "<table border=\"1\" class=\"dataframe\">\n",
       "  <thead>\n",
       "    <tr style=\"text-align: right;\">\n",
       "      <th></th>\n",
       "      <th>Violation Code</th>\n",
       "      <th>Plate Type</th>\n",
       "      <th>Count</th>\n",
       "    </tr>\n",
       "  </thead>\n",
       "  <tbody>\n",
       "    <tr>\n",
       "      <th>0</th>\n",
       "      <td>4</td>\n",
       "      <td>COM</td>\n",
       "      <td>4</td>\n",
       "    </tr>\n",
       "    <tr>\n",
       "      <th>1</th>\n",
       "      <td>5</td>\n",
       "      <td>PAS</td>\n",
       "      <td>1080</td>\n",
       "    </tr>\n",
       "    <tr>\n",
       "      <th>2</th>\n",
       "      <td>6</td>\n",
       "      <td>APP</td>\n",
       "      <td>3</td>\n",
       "    </tr>\n",
       "    <tr>\n",
       "      <th>3</th>\n",
       "      <td>7</td>\n",
       "      <td>PAS</td>\n",
       "      <td>1398</td>\n",
       "    </tr>\n",
       "    <tr>\n",
       "      <th>4</th>\n",
       "      <td>8</td>\n",
       "      <td>COM</td>\n",
       "      <td>1</td>\n",
       "    </tr>\n",
       "    <tr>\n",
       "      <th>...</th>\n",
       "      <td>...</td>\n",
       "      <td>...</td>\n",
       "      <td>...</td>\n",
       "    </tr>\n",
       "    <tr>\n",
       "      <th>70</th>\n",
       "      <td>91</td>\n",
       "      <td>PAS</td>\n",
       "      <td>2</td>\n",
       "    </tr>\n",
       "    <tr>\n",
       "      <th>71</th>\n",
       "      <td>94</td>\n",
       "      <td>PAS</td>\n",
       "      <td>2</td>\n",
       "    </tr>\n",
       "    <tr>\n",
       "      <th>72</th>\n",
       "      <td>95</td>\n",
       "      <td>PAS</td>\n",
       "      <td>1</td>\n",
       "    </tr>\n",
       "    <tr>\n",
       "      <th>73</th>\n",
       "      <td>98</td>\n",
       "      <td>PAS</td>\n",
       "      <td>92</td>\n",
       "    </tr>\n",
       "    <tr>\n",
       "      <th>74</th>\n",
       "      <td>99</td>\n",
       "      <td>PAS</td>\n",
       "      <td>4</td>\n",
       "    </tr>\n",
       "  </tbody>\n",
       "</table>\n",
       "<p>75 rows × 3 columns</p>\n",
       "</div>"
      ],
      "text/plain": [
       "    Violation Code Plate Type  Count\n",
       "0                4        COM      4\n",
       "1                5        PAS   1080\n",
       "2                6        APP      3\n",
       "3                7        PAS   1398\n",
       "4                8        COM      1\n",
       "..             ...        ...    ...\n",
       "70              91        PAS      2\n",
       "71              94        PAS      2\n",
       "72              95        PAS      1\n",
       "73              98        PAS     92\n",
       "74              99        PAS      4\n",
       "\n",
       "[75 rows x 3 columns]"
      ]
     },
     "execution_count": 10,
     "metadata": {},
     "output_type": "execute_result"
    }
   ],
   "source": [
    "df.groupby('Violation Code')['Plate Type'].apply(lambda x: x.value_counts().head(1)).reset_index(name='Count').rename(columns={'level_1': 'Plate Type'})"
   ]
  },
  {
   "cell_type": "markdown",
   "metadata": {},
   "source": [
    "#### Code Explanation:\n",
    "\n",
    "In this step, we are using more advanced functionality.  We will break this code down into snippets to explain.\n",
    "\n",
    "We start by grouping the records in *df* by violation code.  \n",
    "\n",
    "```\n",
    "df.groupby('Violation Code')['Plate Type']\n",
    "```\n",
    "\n",
    "Next, we want to determine which plate type gets the most parking violations for each of the violation codes.  To do this we need to apply a function along an axis of the grouped data.  Because we do not specify the axis, it defaults to 0, which is the index.  \n",
    "\n",
    "The lambda function calls the value_counts() method on each group (violation code) and counts the number of instances of each plate type per group, in descending order.  The call to the head() method then gives us the top plate type for each violation code group.\n",
    "\n",
    "```\n",
    ".apply(lambda x: x.value_counts().head(1))\n",
    "```\n",
    "\n",
    "We use the the reset_index() method to reset the DataFrame index to the original one. We use it here to present the results in a more elegant manner. We pass the name argument of 'Count' to name the column containing the count values.\n",
    "\n",
    "```\n",
    ".reset_index(name='Count')\n",
    "```\n",
    "\n",
    "Finally, we call the rename() method to rename the level_1 column as Plate Type, to make the output more readable.\n",
    "\n",
    "```\n",
    ".rename(columns={'level_1': 'Plate Type'})\n",
    "```"
   ]
  },
  {
   "cell_type": "markdown",
   "metadata": {},
   "source": [
    "### Step 10: Calculate the percentage of parking violations in each county and display in descending order."
   ]
  },
  {
   "cell_type": "code",
   "execution_count": 11,
   "metadata": {},
   "outputs": [
    {
     "data": {
      "text/html": [
       "<div>\n",
       "<style scoped>\n",
       "    .dataframe tbody tr th:only-of-type {\n",
       "        vertical-align: middle;\n",
       "    }\n",
       "\n",
       "    .dataframe tbody tr th {\n",
       "        vertical-align: top;\n",
       "    }\n",
       "\n",
       "    .dataframe thead th {\n",
       "        text-align: right;\n",
       "    }\n",
       "</style>\n",
       "<table border=\"1\" class=\"dataframe\">\n",
       "  <thead>\n",
       "    <tr style=\"text-align: right;\">\n",
       "      <th></th>\n",
       "      <th>Violation County</th>\n",
       "      <th>Percentage</th>\n",
       "    </tr>\n",
       "  </thead>\n",
       "  <tbody>\n",
       "    <tr>\n",
       "      <th>0</th>\n",
       "      <td>NY</td>\n",
       "      <td>20.769903</td>\n",
       "    </tr>\n",
       "    <tr>\n",
       "      <th>1</th>\n",
       "      <td>BK</td>\n",
       "      <td>15.104917</td>\n",
       "    </tr>\n",
       "    <tr>\n",
       "      <th>2</th>\n",
       "      <td>QN</td>\n",
       "      <td>13.734314</td>\n",
       "    </tr>\n",
       "    <tr>\n",
       "      <th>3</th>\n",
       "      <td>BX</td>\n",
       "      <td>13.371734</td>\n",
       "    </tr>\n",
       "    <tr>\n",
       "      <th>4</th>\n",
       "      <td>K</td>\n",
       "      <td>13.104300</td>\n",
       "    </tr>\n",
       "    <tr>\n",
       "      <th>5</th>\n",
       "      <td>Q</td>\n",
       "      <td>12.983440</td>\n",
       "    </tr>\n",
       "    <tr>\n",
       "      <th>6</th>\n",
       "      <td>MN</td>\n",
       "      <td>6.912158</td>\n",
       "    </tr>\n",
       "    <tr>\n",
       "      <th>7</th>\n",
       "      <td>ST</td>\n",
       "      <td>3.342934</td>\n",
       "    </tr>\n",
       "    <tr>\n",
       "      <th>8</th>\n",
       "      <td>R</td>\n",
       "      <td>0.676301</td>\n",
       "    </tr>\n",
       "  </tbody>\n",
       "</table>\n",
       "</div>"
      ],
      "text/plain": [
       "  Violation County  Percentage\n",
       "0               NY   20.769903\n",
       "1               BK   15.104917\n",
       "2               QN   13.734314\n",
       "3               BX   13.371734\n",
       "4                K   13.104300\n",
       "5                Q   12.983440\n",
       "6               MN    6.912158\n",
       "7               ST    3.342934\n",
       "8                R    0.676301"
      ]
     },
     "execution_count": 11,
     "metadata": {},
     "output_type": "execute_result"
    }
   ],
   "source": [
    "# Count the number of parking violations in each county.\n",
    "df_county = df.groupby('Violation County')['Summons Number'].count().reset_index(name='Percentage')\n",
    "\n",
    "# Calculate the number of parking violations in each county as a percentage of all parking violations.\n",
    "df_county['Percentage'] = df_county['Percentage'] / df_county['Percentage'].sum() * 100\n",
    "\n",
    "# Sort and display the resulting dataframe.\n",
    "df_county.sort_values(by='Percentage', ascending=False).reset_index(drop=True)"
   ]
  },
  {
   "cell_type": "markdown",
   "metadata": {},
   "source": [
    "#### Code Explanation:\n",
    "\n",
    "We group the rows in *df* by violation county, count the number of parking violations for each violation county and then store it as *df_county*.  We call the reset_index() method to reset the index and to rename the result column as Percentage.\n",
    "\n",
    "```\n",
    "df_county = df.groupby('Violation County')['Summons Number'].count().reset_index(name='Percentage')\n",
    "```\n",
    "\n",
    "We replace the previously calculated values in the Percentage column by dividing them by the total sum of violations to calculate a percentage for each.\n",
    "\n",
    "```\n",
    "df_county['Percentage'] = df_county['Percentage'] / df_county['Percentage'].sum() * 100\n",
    "```\n",
    "\n",
    "Finally, we call the sort_values method on *df_county* to sort the percentages in descending order.\n",
    "\n",
    "```\n",
    "df_county.sort_values(by='Percentage', ascending=False).reset_index(drop=True)\n",
    "```"
   ]
  },
  {
   "cell_type": "markdown",
   "metadata": {},
   "source": [
    "I hope you have found this project a useful way to learn Python data analytics.  Please share your feedback in the comments section."
   ]
  }
 ],
 "metadata": {
  "kernelspec": {
   "display_name": "Python 3",
   "language": "python",
   "name": "python3"
  },
  "language_info": {
   "codemirror_mode": {
    "name": "ipython",
    "version": 3
   },
   "file_extension": ".py",
   "mimetype": "text/x-python",
   "name": "python",
   "nbconvert_exporter": "python",
   "pygments_lexer": "ipython3",
   "version": "3.8.6"
  }
 },
 "nbformat": 4,
 "nbformat_minor": 4
}
